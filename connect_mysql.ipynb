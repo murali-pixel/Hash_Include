{
 "cells": [
  {
   "cell_type": "code",
   "execution_count": 1,
   "id": "69cdacf7",
   "metadata": {},
   "outputs": [
    {
     "name": "stdout",
     "output_type": "stream",
     "text": [
      "Requirement already satisfied: sqlalchemy in /Users/muralikrishnakancheti/anaconda3/lib/python3.10/site-packages (1.4.39)\n",
      "Collecting pymysql\n",
      "  Downloading PyMySQL-1.1.1-py3-none-any.whl (44 kB)\n",
      "\u001b[2K     \u001b[90m━━━━━━━━━━━━━━━━━━━━━━━━━━━━━━━━━━━━━━━\u001b[0m \u001b[32m45.0/45.0 kB\u001b[0m \u001b[31m692.4 kB/s\u001b[0m eta \u001b[36m0:00:00\u001b[0ma \u001b[36m0:00:01\u001b[0m\n",
      "\u001b[?25hInstalling collected packages: pymysql\n",
      "Successfully installed pymysql-1.1.1\n",
      "Note: you may need to restart the kernel to use updated packages.\n"
     ]
    }
   ],
   "source": [
    "pip install sqlalchemy pymysql\n"
   ]
  },
  {
   "cell_type": "code",
   "execution_count": 2,
   "id": "df11a8a5",
   "metadata": {},
   "outputs": [
    {
     "name": "stdout",
     "output_type": "stream",
     "text": [
      "Error connecting to the database: (pymysql.err.OperationalError) (2003, \"Can't connect to MySQL server on '2742@localhost' ([Errno 8] nodename nor servname provided, or not known)\")\n",
      "(Background on this error at: https://sqlalche.me/e/14/e3q8)\n"
     ]
    }
   ],
   "source": [
    "from sqlalchemy import create_engine\n",
    "import pandas as pd\n",
    "\n",
    "# Database connection details\n",
    "DB_TYPE = 'mysql+pymysql'\n",
    "DB_HOST = 'localhost'\n",
    "DB_USER = 'root'\n",
    "DB_PASS = 'Krishna@2742'\n",
    "DB_PORT = '3306'\n",
    "DB_NAME = 'EMPLOYEE_RECORDS'  # Replace 'your_database' with your actual database name\n",
    "\n",
    "# Create the engine\n",
    "engine = create_engine(f\"{DB_TYPE}://{DB_USER}:{DB_PASS}@{DB_HOST}:{DB_PORT}/{DB_NAME}\")\n",
    "\n",
    "# Test connection by fetching data from a sample table\n",
    "try:\n",
    "    # Replace 'sample_table' with an actual table name in your database\n",
    "    sample_df = pd.read_sql('SELECT * FROM employees LIMIT 5', engine)\n",
    "    print(sample_df)\n",
    "except Exception as e:\n",
    "    print(\"Error connecting to the database:\", e)\n"
   ]
  },
  {
   "cell_type": "code",
   "execution_count": null,
   "id": "0b98e82d",
   "metadata": {},
   "outputs": [],
   "source": []
  }
 ],
 "metadata": {
  "kernelspec": {
   "display_name": "Python 3 (ipykernel)",
   "language": "python",
   "name": "python3"
  },
  "language_info": {
   "codemirror_mode": {
    "name": "ipython",
    "version": 3
   },
   "file_extension": ".py",
   "mimetype": "text/x-python",
   "name": "python",
   "nbconvert_exporter": "python",
   "pygments_lexer": "ipython3",
   "version": "3.10.9"
  }
 },
 "nbformat": 4,
 "nbformat_minor": 5
}
